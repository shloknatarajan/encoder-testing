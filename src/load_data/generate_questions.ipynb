{
 "cells": [
  {
   "cell_type": "code",
   "execution_count": 49,
   "metadata": {},
   "outputs": [],
   "source": [
    "# load the mmlu pro dataset from huggingface\n",
    "from datasets import load_dataset\n",
    "import pandas as pd"
   ]
  },
  {
   "cell_type": "code",
   "execution_count": 50,
   "metadata": {},
   "outputs": [
    {
     "name": "stdout",
     "output_type": "stream",
     "text": [
      "DatasetDict({\n",
      "    test: Dataset({\n",
      "        features: ['question_id', 'question', 'options', 'answer', 'answer_index', 'cot_content', 'category', 'src'],\n",
      "        num_rows: 12032\n",
      "    })\n",
      "    validation: Dataset({\n",
      "        features: ['question_id', 'question', 'options', 'answer', 'answer_index', 'cot_content', 'category', 'src'],\n",
      "        num_rows: 70\n",
      "    })\n",
      "})\n"
     ]
    }
   ],
   "source": [
    "\n",
    "dataset = load_dataset(\"TIGER-Lab/MMLU-Pro\")\n",
    "\n",
    "print(dataset)"
   ]
  },
  {
   "cell_type": "code",
   "execution_count": 51,
   "metadata": {},
   "outputs": [
    {
     "data": {
      "text/plain": [
       "dict_keys(['test', 'validation'])"
      ]
     },
     "execution_count": 51,
     "metadata": {},
     "output_type": "execute_result"
    }
   ],
   "source": [
    "# list of all categories in the dataset\n",
    "dataset.keys()"
   ]
  },
  {
   "cell_type": "code",
   "execution_count": 52,
   "metadata": {},
   "outputs": [],
   "source": [
    "ds = dataset[\"test\"]"
   ]
  },
  {
   "cell_type": "code",
   "execution_count": 53,
   "metadata": {},
   "outputs": [],
   "source": [
    "df = ds.to_pandas()"
   ]
  },
  {
   "cell_type": "code",
   "execution_count": 54,
   "metadata": {},
   "outputs": [
    {
     "data": {
      "text/html": [
       "<div>\n",
       "<style scoped>\n",
       "    .dataframe tbody tr th:only-of-type {\n",
       "        vertical-align: middle;\n",
       "    }\n",
       "\n",
       "    .dataframe tbody tr th {\n",
       "        vertical-align: top;\n",
       "    }\n",
       "\n",
       "    .dataframe thead th {\n",
       "        text-align: right;\n",
       "    }\n",
       "</style>\n",
       "<table border=\"1\" class=\"dataframe\">\n",
       "  <thead>\n",
       "    <tr style=\"text-align: right;\">\n",
       "      <th></th>\n",
       "      <th>question_id</th>\n",
       "      <th>question</th>\n",
       "      <th>options</th>\n",
       "      <th>answer</th>\n",
       "      <th>answer_index</th>\n",
       "      <th>cot_content</th>\n",
       "      <th>category</th>\n",
       "      <th>src</th>\n",
       "    </tr>\n",
       "  </thead>\n",
       "  <tbody>\n",
       "    <tr>\n",
       "      <th>0</th>\n",
       "      <td>70</td>\n",
       "      <td>Typical advertising regulatory bodies suggest,...</td>\n",
       "      <td>[Safe practices, Fear, Jealousy, Trivial, Unsa...</td>\n",
       "      <td>I</td>\n",
       "      <td>8</td>\n",
       "      <td></td>\n",
       "      <td>business</td>\n",
       "      <td>ori_mmlu-business_ethics</td>\n",
       "    </tr>\n",
       "    <tr>\n",
       "      <th>1</th>\n",
       "      <td>71</td>\n",
       "      <td>Managers are entrusted to run the company in t...</td>\n",
       "      <td>[Shareholders, Diligence, Self-interest, Share...</td>\n",
       "      <td>F</td>\n",
       "      <td>5</td>\n",
       "      <td></td>\n",
       "      <td>business</td>\n",
       "      <td>ori_mmlu-business_ethics</td>\n",
       "    </tr>\n",
       "    <tr>\n",
       "      <th>2</th>\n",
       "      <td>72</td>\n",
       "      <td>There are two main issues associated with ____...</td>\n",
       "      <td>[Down, Autonomy, Remuneration, Benefit, Down, ...</td>\n",
       "      <td>J</td>\n",
       "      <td>9</td>\n",
       "      <td></td>\n",
       "      <td>business</td>\n",
       "      <td>ori_mmlu-business_ethics</td>\n",
       "    </tr>\n",
       "    <tr>\n",
       "      <th>3</th>\n",
       "      <td>73</td>\n",
       "      <td>_______ locate morality beyond the sphere of r...</td>\n",
       "      <td>[Ethical egoism, Ethics of duty, Postmodern et...</td>\n",
       "      <td>C</td>\n",
       "      <td>2</td>\n",
       "      <td></td>\n",
       "      <td>business</td>\n",
       "      <td>ori_mmlu-business_ethics</td>\n",
       "    </tr>\n",
       "    <tr>\n",
       "      <th>4</th>\n",
       "      <td>74</td>\n",
       "      <td>Some of key differences between Islamic finan...</td>\n",
       "      <td>[Interest, Certain, Assured, Both tangible and...</td>\n",
       "      <td>G</td>\n",
       "      <td>6</td>\n",
       "      <td></td>\n",
       "      <td>business</td>\n",
       "      <td>ori_mmlu-business_ethics</td>\n",
       "    </tr>\n",
       "  </tbody>\n",
       "</table>\n",
       "</div>"
      ],
      "text/plain": [
       "   question_id                                           question  \\\n",
       "0           70  Typical advertising regulatory bodies suggest,...   \n",
       "1           71  Managers are entrusted to run the company in t...   \n",
       "2           72  There are two main issues associated with ____...   \n",
       "3           73  _______ locate morality beyond the sphere of r...   \n",
       "4           74   Some of key differences between Islamic finan...   \n",
       "\n",
       "                                             options answer  answer_index  \\\n",
       "0  [Safe practices, Fear, Jealousy, Trivial, Unsa...      I             8   \n",
       "1  [Shareholders, Diligence, Self-interest, Share...      F             5   \n",
       "2  [Down, Autonomy, Remuneration, Benefit, Down, ...      J             9   \n",
       "3  [Ethical egoism, Ethics of duty, Postmodern et...      C             2   \n",
       "4  [Interest, Certain, Assured, Both tangible and...      G             6   \n",
       "\n",
       "  cot_content  category                       src  \n",
       "0              business  ori_mmlu-business_ethics  \n",
       "1              business  ori_mmlu-business_ethics  \n",
       "2              business  ori_mmlu-business_ethics  \n",
       "3              business  ori_mmlu-business_ethics  \n",
       "4              business  ori_mmlu-business_ethics  "
      ]
     },
     "execution_count": 54,
     "metadata": {},
     "output_type": "execute_result"
    }
   ],
   "source": [
    "df.head()"
   ]
  },
  {
   "cell_type": "code",
   "execution_count": 55,
   "metadata": {},
   "outputs": [
    {
     "name": "stdout",
     "output_type": "stream",
     "text": [
      "['biology', 'business', 'chemistry', 'computer science', 'economics']\n"
     ]
    }
   ],
   "source": [
    "categories = df.groupby(\"category\").size()[0:5]\n",
    "listed_categories = categories.index.tolist()\n",
    "print(listed_categories)\n"
   ]
  },
  {
   "cell_type": "code",
   "execution_count": 56,
   "metadata": {},
   "outputs": [],
   "source": [
    "# 5 model names\n",
    "model_names = [\"biology_model\", \"business_model\", \"chemistry_model\", \"computer_science_model\", \"economics_model\"]"
   ]
  },
  {
   "cell_type": "code",
   "execution_count": 57,
   "metadata": {},
   "outputs": [],
   "source": [
    "model_performance_map = {\n",
    "    \"biology\": {\"biology_model\": 0.9, \"business_model\": 0.1, \"chemistry_model\": 0.5, \"computer_science_model\": 0.2, \"economics_model\": 0.3},\n",
    "    \"business\": {\"biology_model\": 0.1, \"business_model\": 0.9, \"chemistry_model\": 0.2, \"computer_science_model\": 0.3, \"economics_model\": 0.4},\n",
    "    \"chemistry\": {\"biology_model\": 0.1, \"business_model\": 0.2, \"chemistry_model\": 0.9, \"computer_science_model\": 0.4, \"economics_model\": 0.3},\n",
    "    \"computer_science\": {\"biology_model\": 0.1, \"business_model\": 0.3, \"chemistry_model\": 0.4, \"computer_science_model\": 0.9, \"economics_model\": 0.3},\n",
    "    \"economics\": {\"biology_model\": 0.1, \"business_model\": 0.4, \"chemistry_model\": 0.3, \"computer_science_model\": 0.3, \"economics_model\": 0.9}\n",
    "}"
   ]
  },
  {
   "cell_type": "code",
   "execution_count": 58,
   "metadata": {},
   "outputs": [
    {
     "name": "stderr",
     "output_type": "stream",
     "text": [
      "/var/folders/4m/67jr2wx91v3bttpjrnvlxks40000gn/T/ipykernel_38684/502505707.py:2: DeprecationWarning: DataFrameGroupBy.apply operated on the grouping columns. This behavior is deprecated, and in a future version of pandas the grouping columns will be excluded from the operation. Either pass `include_groups=False` to exclude the groupings or explicitly select the grouping columns after groupby to silence this warning.\n",
      "  questions = df[df[\"category\"].isin(listed_categories)].groupby(\"category\").apply(lambda x: x.sample(100))\n"
     ]
    }
   ],
   "source": [
    "# Get 100 questions from each of the top 5 most popular categories\n",
    "questions = df[df[\"category\"].isin(listed_categories)].groupby(\"category\").apply(lambda x: x.sample(100))\n",
    "# Convert the top 100 questions to a pandas DataFrame\n",
    "questions_df = questions.reset_index(drop=True)\n"
   ]
  },
  {
   "cell_type": "code",
   "execution_count": 59,
   "metadata": {},
   "outputs": [],
   "source": [
    "# save the questions to a csv file\n",
    "questions_df.to_csv(\"questions.csv\", index=False)"
   ]
  },
  {
   "cell_type": "code",
   "execution_count": 60,
   "metadata": {},
   "outputs": [],
   "source": [
    "# save the questions to a jsonl file\n",
    "questions_df.to_json(\"data/questions.jsonl\", orient=\"records\", lines=True)"
   ]
  },
  {
   "cell_type": "code",
   "execution_count": 61,
   "metadata": {},
   "outputs": [],
   "source": [
    "def number_to_letter(number: int) -> str:\n",
    "    return chr(65 + number)\n",
    "\n",
    "def create_mc_question_prompt(question: str, options: list[str]) -> str:\n",
    "    prompt = f\"\"\"\n",
    "    Question: {question}\n",
    "    Choices: \n",
    "    {create_options_prompt(options)}\n",
    "    Please solve this step by step, then output your answer on a new line as 'The answer is: X'\n",
    "    where X is the letter corresponding to your choice\n",
    "    \"\"\".replace(\"   \", \"\").replace(\"\\n\", \"\")\n",
    "    return prompt\n",
    "\n",
    "def create_options_prompt(options: list[str]) -> str:\n",
    "    # turn options into dictionary with capital letter as key and option as value\n",
    "    choices_string = \"\"\n",
    "    for i, option in enumerate(options):\n",
    "        choices_string += f\"{number_to_letter(i)}: {option}. \"\n",
    "    return choices_string\n",
    "\n",
    "questions_df['prompted_question'] = questions_df.apply(lambda row: create_mc_question_prompt(row[\"question\"], row[\"options\"]), axis=1)"
   ]
  },
  {
   "cell_type": "code",
   "execution_count": 62,
   "metadata": {},
   "outputs": [
    {
     "data": {
      "text/plain": [
       "\" Question: In certain abnormal conditions, the stomach does not secretehydrochloric acid. What effects might this haveon thedigestive process? Choices:  A: The absence of HCl would cause the stomach lining to produce more acid.. B: The absence of HCl would lead to the complete digestion of lipids in the stomach.. C: The absence of HCl would lead to some loss of protein digestion, less denaturation of proteins, less killing of ingested bacteria, and less pancreatic secretion.. D: The absence of HCl would increase the level of gastric enzymes.. E: The absence of HCl would lead to improved digestion of carbohydrates.. F: The absence of HCl would stimulate the liver to release more bile.. G: The absence of HCl would have no effect on the digestive process.. H: The absence of HCl would enhance the activity of gastric lipase.. I: The absence of HCl would result in more efficient absorption of nutrients.. J: The absence of HCl would increase the secretion of pancreatic juice..  Please solve this step by step, then output your answer on a new line as 'The answer is: X' where X is the letter corresponding to your choice \""
      ]
     },
     "execution_count": 62,
     "metadata": {},
     "output_type": "execute_result"
    }
   ],
   "source": [
    "questions_df[['prompted_question', 'answer']].iloc[0]['prompted_question']"
   ]
  },
  {
   "cell_type": "code",
   "execution_count": 63,
   "metadata": {},
   "outputs": [
    {
     "data": {
      "text/html": [
       "<div>\n",
       "<style scoped>\n",
       "    .dataframe tbody tr th:only-of-type {\n",
       "        vertical-align: middle;\n",
       "    }\n",
       "\n",
       "    .dataframe tbody tr th {\n",
       "        vertical-align: top;\n",
       "    }\n",
       "\n",
       "    .dataframe thead th {\n",
       "        text-align: right;\n",
       "    }\n",
       "</style>\n",
       "<table border=\"1\" class=\"dataframe\">\n",
       "  <thead>\n",
       "    <tr style=\"text-align: right;\">\n",
       "      <th></th>\n",
       "      <th>question_id</th>\n",
       "      <th>question</th>\n",
       "      <th>options</th>\n",
       "      <th>answer</th>\n",
       "      <th>answer_index</th>\n",
       "      <th>cot_content</th>\n",
       "      <th>category</th>\n",
       "      <th>src</th>\n",
       "      <th>prompted_question</th>\n",
       "    </tr>\n",
       "  </thead>\n",
       "  <tbody>\n",
       "    <tr>\n",
       "      <th>0</th>\n",
       "      <td>3098</td>\n",
       "      <td>In certain abnormal conditions, the stomach do...</td>\n",
       "      <td>[The absence of HCl would cause the stomach li...</td>\n",
       "      <td>C</td>\n",
       "      <td>2</td>\n",
       "      <td></td>\n",
       "      <td>biology</td>\n",
       "      <td>stemez-Biology</td>\n",
       "      <td>Question: In certain abnormal conditions, the...</td>\n",
       "    </tr>\n",
       "    <tr>\n",
       "      <th>1</th>\n",
       "      <td>3265</td>\n",
       "      <td>Short sequence by promoter that assists transc...</td>\n",
       "      <td>[Promoter, Inducer, Repressor, Operator, Inhib...</td>\n",
       "      <td>D</td>\n",
       "      <td>3</td>\n",
       "      <td></td>\n",
       "      <td>biology</td>\n",
       "      <td>ori_mmlu-high_school_biology</td>\n",
       "      <td>Question: Short sequence by promoter that ass...</td>\n",
       "    </tr>\n",
       "    <tr>\n",
       "      <th>2</th>\n",
       "      <td>3024</td>\n",
       "      <td>Two 30\" plants are crossed, resulting in proge...</td>\n",
       "      <td>[AaBbCcDd×AABBCCDD, AaBbCcEeFf×AaBbCcEeFf, AaB...</td>\n",
       "      <td>E</td>\n",
       "      <td>4</td>\n",
       "      <td></td>\n",
       "      <td>biology</td>\n",
       "      <td>stemez-Genetics</td>\n",
       "      <td>Question: Two 30\" plants are crossed, resulti...</td>\n",
       "    </tr>\n",
       "    <tr>\n",
       "      <th>3</th>\n",
       "      <td>2978</td>\n",
       "      <td>Distinguish betweenapoenzymesandcofactors .</td>\n",
       "      <td>[Apoenzymes can perform enzymatic functions wi...</td>\n",
       "      <td>D</td>\n",
       "      <td>3</td>\n",
       "      <td></td>\n",
       "      <td>biology</td>\n",
       "      <td>stemez-Biology</td>\n",
       "      <td>Question: Distinguish betweenapoenzymesandcof...</td>\n",
       "    </tr>\n",
       "    <tr>\n",
       "      <th>4</th>\n",
       "      <td>3256</td>\n",
       "      <td>What hormone is responsible for metamorphosis ...</td>\n",
       "      <td>[growth hormone, estrogen, thyroxine, insulin,...</td>\n",
       "      <td>C</td>\n",
       "      <td>2</td>\n",
       "      <td></td>\n",
       "      <td>biology</td>\n",
       "      <td>stemez-Biology</td>\n",
       "      <td>Question: What hormone is responsible for met...</td>\n",
       "    </tr>\n",
       "  </tbody>\n",
       "</table>\n",
       "</div>"
      ],
      "text/plain": [
       "   question_id                                           question  \\\n",
       "0         3098  In certain abnormal conditions, the stomach do...   \n",
       "1         3265  Short sequence by promoter that assists transc...   \n",
       "2         3024  Two 30\" plants are crossed, resulting in proge...   \n",
       "3         2978        Distinguish betweenapoenzymesandcofactors .   \n",
       "4         3256  What hormone is responsible for metamorphosis ...   \n",
       "\n",
       "                                             options answer  answer_index  \\\n",
       "0  [The absence of HCl would cause the stomach li...      C             2   \n",
       "1  [Promoter, Inducer, Repressor, Operator, Inhib...      D             3   \n",
       "2  [AaBbCcDd×AABBCCDD, AaBbCcEeFf×AaBbCcEeFf, AaB...      E             4   \n",
       "3  [Apoenzymes can perform enzymatic functions wi...      D             3   \n",
       "4  [growth hormone, estrogen, thyroxine, insulin,...      C             2   \n",
       "\n",
       "  cot_content category                           src  \\\n",
       "0              biology                stemez-Biology   \n",
       "1              biology  ori_mmlu-high_school_biology   \n",
       "2              biology               stemez-Genetics   \n",
       "3              biology                stemez-Biology   \n",
       "4              biology                stemez-Biology   \n",
       "\n",
       "                                   prompted_question  \n",
       "0   Question: In certain abnormal conditions, the...  \n",
       "1   Question: Short sequence by promoter that ass...  \n",
       "2   Question: Two 30\" plants are crossed, resulti...  \n",
       "3   Question: Distinguish betweenapoenzymesandcof...  \n",
       "4   Question: What hormone is responsible for met...  "
      ]
     },
     "execution_count": 63,
     "metadata": {},
     "output_type": "execute_result"
    }
   ],
   "source": [
    "questions_df.head()"
   ]
  },
  {
   "cell_type": "code",
   "execution_count": 64,
   "metadata": {},
   "outputs": [],
   "source": [
    "processed_questions = questions_df[['prompted_question', 'answer', 'category']]"
   ]
  },
  {
   "cell_type": "code",
   "execution_count": 65,
   "metadata": {},
   "outputs": [],
   "source": [
    "processed_questions.to_json(\"data/processed_questions.jsonl\", orient=\"records\", lines=True)"
   ]
  },
  {
   "cell_type": "code",
   "execution_count": 66,
   "metadata": {},
   "outputs": [],
   "source": [
    "data = processed_questions.copy()"
   ]
  },
  {
   "cell_type": "code",
   "execution_count": 67,
   "metadata": {},
   "outputs": [],
   "source": [
    "data[\"model_performance\"] = data[\"category\"].map(model_performance_map)"
   ]
  },
  {
   "cell_type": "code",
   "execution_count": 68,
   "metadata": {},
   "outputs": [],
   "source": [
    "# save data to a jsonl file\n",
    "data.to_json(\"data/data.jsonl\", orient=\"records\", lines=True)\n"
   ]
  },
  {
   "cell_type": "code",
   "execution_count": null,
   "metadata": {},
   "outputs": [],
   "source": []
  }
 ],
 "metadata": {
  "kernelspec": {
   "display_name": "default",
   "language": "python",
   "name": "python3"
  },
  "language_info": {
   "codemirror_mode": {
    "name": "ipython",
    "version": 3
   },
   "file_extension": ".py",
   "mimetype": "text/x-python",
   "name": "python",
   "nbconvert_exporter": "python",
   "pygments_lexer": "ipython3",
   "version": "3.13.2"
  }
 },
 "nbformat": 4,
 "nbformat_minor": 2
}
