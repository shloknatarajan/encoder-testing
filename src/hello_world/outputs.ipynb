{
 "cells": [
  {
   "cell_type": "code",
   "execution_count": 3,
   "metadata": {},
   "outputs": [],
   "source": [
    "import pickle"
   ]
  },
  {
   "cell_type": "code",
   "execution_count": 4,
   "metadata": {},
   "outputs": [
    {
     "name": "stderr",
     "output_type": "stream",
     "text": [
      "/Users/shloknatarajan/stanford/329a/encoder-testing/.pixi/envs/default/lib/python3.13/site-packages/tqdm/auto.py:21: TqdmWarning: IProgress not found. Please update jupyter and ipywidgets. See https://ipywidgets.readthedocs.io/en/stable/user_install.html\n",
      "  from .autonotebook import tqdm as notebook_tqdm\n"
     ]
    },
    {
     "name": "stdout",
     "output_type": "stream",
     "text": [
      "BaseModelOutput(last_hidden_state=tensor([[[ 3.7156e-01, -4.1984e-01, -7.5408e-01,  ..., -2.9134e-01,\n",
      "           2.6021e-01,  2.8596e-02],\n",
      "         [-1.0220e+00, -1.2392e+00,  1.9032e-01,  ..., -1.0988e-03,\n",
      "          -1.5556e+00,  1.4531e+00],\n",
      "         [ 4.7639e-02,  9.4972e-02,  1.8857e-01,  ...,  1.7310e-01,\n",
      "          -6.5548e-03,  4.7702e-02],\n",
      "         [ 6.5504e-01, -5.7491e-01, -1.7726e-01,  ...,  9.5159e-01,\n",
      "          -1.0722e+00,  5.3136e-01],\n",
      "         [-5.7010e-01,  3.5565e-01, -5.5523e-01,  ..., -1.9969e+00,\n",
      "          -4.5459e-01,  1.6296e+00],\n",
      "         [ 2.5810e-01, -6.2658e-02,  8.1251e-02,  ...,  1.6821e-02,\n",
      "           5.0489e-02, -1.6010e-01]]], requires_grad=True), hidden_states=None, attentions=None)\n"
     ]
    }
   ],
   "source": [
    "# load outputs.pkl\n",
    "with open(\"outputs.pkl\", \"rb\") as f:\n",
    "    outputs = pickle.load(f)\n",
    "\n",
    "print(outputs)\n"
   ]
  },
  {
   "cell_type": "code",
   "execution_count": 5,
   "metadata": {},
   "outputs": [
    {
     "name": "stdout",
     "output_type": "stream",
     "text": [
      "1\n"
     ]
    },
    {
     "ename": "AttributeError",
     "evalue": "'BaseModelOutput' object has no attribute 'shape'",
     "output_type": "error",
     "traceback": [
      "\u001b[31m---------------------------------------------------------------------------\u001b[39m",
      "\u001b[31mAttributeError\u001b[39m                            Traceback (most recent call last)",
      "\u001b[36mCell\u001b[39m\u001b[36m \u001b[39m\u001b[32mIn[5]\u001b[39m\u001b[32m, line 5\u001b[39m\n\u001b[32m      2\u001b[39m \u001b[38;5;28mprint\u001b[39m(\u001b[38;5;28mlen\u001b[39m(outputs))\n\u001b[32m      4\u001b[39m \u001b[38;5;66;03m# get shape of outputs\u001b[39;00m\n\u001b[32m----> \u001b[39m\u001b[32m5\u001b[39m \u001b[38;5;28mprint\u001b[39m(\u001b[43moutputs\u001b[49m\u001b[43m.\u001b[49m\u001b[43mshape\u001b[49m)\n",
      "\u001b[31mAttributeError\u001b[39m: 'BaseModelOutput' object has no attribute 'shape'"
     ]
    }
   ],
   "source": [
    "# get length of outputs\n",
    "print(len(outputs))\n",
    "\n",
    "# get shape of outputs\n",
    "print(outputs.shape)\n",
    "\n"
   ]
  },
  {
   "cell_type": "code",
   "execution_count": 6,
   "metadata": {},
   "outputs": [
    {
     "data": {
      "text/plain": [
       "BaseModelOutput(last_hidden_state=tensor([[[ 3.7156e-01, -4.1984e-01, -7.5408e-01,  ..., -2.9134e-01,\n",
       "           2.6021e-01,  2.8596e-02],\n",
       "         [-1.0220e+00, -1.2392e+00,  1.9032e-01,  ..., -1.0988e-03,\n",
       "          -1.5556e+00,  1.4531e+00],\n",
       "         [ 4.7639e-02,  9.4972e-02,  1.8857e-01,  ...,  1.7310e-01,\n",
       "          -6.5548e-03,  4.7702e-02],\n",
       "         [ 6.5504e-01, -5.7491e-01, -1.7726e-01,  ...,  9.5159e-01,\n",
       "          -1.0722e+00,  5.3136e-01],\n",
       "         [-5.7010e-01,  3.5565e-01, -5.5523e-01,  ..., -1.9969e+00,\n",
       "          -4.5459e-01,  1.6296e+00],\n",
       "         [ 2.5810e-01, -6.2658e-02,  8.1251e-02,  ...,  1.6821e-02,\n",
       "           5.0489e-02, -1.6010e-01]]], requires_grad=True), hidden_states=None, attentions=None)"
      ]
     },
     "execution_count": 6,
     "metadata": {},
     "output_type": "execute_result"
    }
   ],
   "source": [
    "outputs"
   ]
  },
  {
   "cell_type": "code",
   "execution_count": null,
   "metadata": {},
   "outputs": [],
   "source": []
  }
 ],
 "metadata": {
  "kernelspec": {
   "display_name": "default",
   "language": "python",
   "name": "python3"
  },
  "language_info": {
   "codemirror_mode": {
    "name": "ipython",
    "version": 3
   },
   "file_extension": ".py",
   "mimetype": "text/x-python",
   "name": "python",
   "nbconvert_exporter": "python",
   "pygments_lexer": "ipython3",
   "version": "3.13.2"
  }
 },
 "nbformat": 4,
 "nbformat_minor": 2
}
