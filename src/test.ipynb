{
 "cells": [
  {
   "cell_type": "code",
   "execution_count": 14,
   "metadata": {},
   "outputs": [
    {
     "data": {
      "text/plain": [
       "True"
      ]
     },
     "execution_count": 14,
     "metadata": {},
     "output_type": "execute_result"
    }
   ],
   "source": [
    "import torch\n",
    "from transformers import AutoTokenizer, AutoModel, AutoModelForSequenceClassification\n",
    "from transformers import pipeline\n",
    "from dotenv import load_dotenv\n",
    "import os\n",
    "from load_data.export_data import get_processed_dataset\n",
    "load_dotenv()\n"
   ]
  },
  {
   "cell_type": "code",
   "execution_count": 15,
   "metadata": {},
   "outputs": [
    {
     "name": "stdout",
     "output_type": "stream",
     "text": [
      "The autoreload extension is already loaded. To reload it, use:\n",
      "  %reload_ext autoreload\n"
     ]
    }
   ],
   "source": [
    "# Run this cell: \n",
    "# The lines below will instruct jupyter to reload imported modules before \n",
    "# executing code cells. This enables you to quickly iterate and test revisions\n",
    "# to your code without having to restart the kernel and reload all of your \n",
    "# modules each time you make a code change in a separate python file.\n",
    "\n",
    "%load_ext autoreload\n",
    "%autoreload 2"
   ]
  },
  {
   "cell_type": "code",
   "execution_count": 18,
   "metadata": {},
   "outputs": [],
   "source": [
    "data = get_processed_dataset()"
   ]
  },
  {
   "cell_type": "code",
   "execution_count": 19,
   "metadata": {},
   "outputs": [
    {
     "data": {
      "text/plain": [
       "DatasetDict({\n",
       "    train: Dataset({\n",
       "        features: ['prompted_question', 'answer', 'category', 'model_performance'],\n",
       "        num_rows: 400\n",
       "    })\n",
       "    test: Dataset({\n",
       "        features: ['prompted_question', 'answer', 'category', 'model_performance'],\n",
       "        num_rows: 100\n",
       "    })\n",
       "})"
      ]
     },
     "execution_count": 19,
     "metadata": {},
     "output_type": "execute_result"
    }
   ],
   "source": [
    "data"
   ]
  },
  {
   "cell_type": "code",
   "execution_count": 27,
   "metadata": {},
   "outputs": [],
   "source": [
    "test_data = data[\"test\"].to_pandas()"
   ]
  },
  {
   "cell_type": "code",
   "execution_count": 32,
   "metadata": {},
   "outputs": [],
   "source": [
    "train_data = data[\"train\"].to_pandas()"
   ]
  },
  {
   "cell_type": "code",
   "execution_count": 35,
   "metadata": {},
   "outputs": [],
   "source": [
    "def encode_strings(strings: list[str] | str) -> torch.Tensor:\n",
    "    tokenizer = AutoTokenizer.from_pretrained(\"answerdotai/ModernBERT-base\", token=os.getenv(\"HF_TOKEN\"))\n",
    "    model = AutoModel.from_pretrained(\"answerdotai/ModernBERT-base\", token=os.getenv(\"HF_TOKEN\"))\n",
    "    tokenized_text = tokenizer(strings, return_tensors=\"pt\")\n",
    "    outputs = model(**tokenized_text)\n",
    "    return outputs"
   ]
  },
  {
   "cell_type": "code",
   "execution_count": 38,
   "metadata": {},
   "outputs": [
    {
     "data": {
      "text/html": [
       "<div>\n",
       "<style scoped>\n",
       "    .dataframe tbody tr th:only-of-type {\n",
       "        vertical-align: middle;\n",
       "    }\n",
       "\n",
       "    .dataframe tbody tr th {\n",
       "        vertical-align: top;\n",
       "    }\n",
       "\n",
       "    .dataframe thead th {\n",
       "        text-align: right;\n",
       "    }\n",
       "</style>\n",
       "<table border=\"1\" class=\"dataframe\">\n",
       "  <thead>\n",
       "    <tr style=\"text-align: right;\">\n",
       "      <th></th>\n",
       "      <th>prompted_question</th>\n",
       "      <th>answer</th>\n",
       "      <th>category</th>\n",
       "      <th>model_performance</th>\n",
       "    </tr>\n",
       "  </thead>\n",
       "  <tbody>\n",
       "    <tr>\n",
       "      <th>0</th>\n",
       "      <td>Question: If consumption for a household is $...</td>\n",
       "      <td>B</td>\n",
       "      <td>economics</td>\n",
       "      <td>{'biology_model': 0.1, 'business_model': 0.4, ...</td>\n",
       "    </tr>\n",
       "    <tr>\n",
       "      <th>1</th>\n",
       "      <td>Question: Calculate the maximum kinetic energ...</td>\n",
       "      <td>G</td>\n",
       "      <td>chemistry</td>\n",
       "      <td>{'biology_model': 0.1, 'business_model': 0.2, ...</td>\n",
       "    </tr>\n",
       "    <tr>\n",
       "      <th>2</th>\n",
       "      <td>Question: Which tissue of plants most resembl...</td>\n",
       "      <td>I</td>\n",
       "      <td>biology</td>\n",
       "      <td>{'biology_model': 0.9, 'business_model': 0.1, ...</td>\n",
       "    </tr>\n",
       "    <tr>\n",
       "      <th>3</th>\n",
       "      <td>Question: Of the following potential benefits...</td>\n",
       "      <td>F</td>\n",
       "      <td>computer science</td>\n",
       "      <td>None</td>\n",
       "    </tr>\n",
       "    <tr>\n",
       "      <th>4</th>\n",
       "      <td>Question: Two 30\" plants are crossed, resulti...</td>\n",
       "      <td>E</td>\n",
       "      <td>biology</td>\n",
       "      <td>{'biology_model': 0.9, 'business_model': 0.1, ...</td>\n",
       "    </tr>\n",
       "  </tbody>\n",
       "</table>\n",
       "</div>"
      ],
      "text/plain": [
       "                                   prompted_question answer          category  \\\n",
       "0   Question: If consumption for a household is $...      B         economics   \n",
       "1   Question: Calculate the maximum kinetic energ...      G         chemistry   \n",
       "2   Question: Which tissue of plants most resembl...      I           biology   \n",
       "3   Question: Of the following potential benefits...      F  computer science   \n",
       "4   Question: Two 30\" plants are crossed, resulti...      E           biology   \n",
       "\n",
       "                                   model_performance  \n",
       "0  {'biology_model': 0.1, 'business_model': 0.4, ...  \n",
       "1  {'biology_model': 0.1, 'business_model': 0.2, ...  \n",
       "2  {'biology_model': 0.9, 'business_model': 0.1, ...  \n",
       "3                                               None  \n",
       "4  {'biology_model': 0.9, 'business_model': 0.1, ...  "
      ]
     },
     "execution_count": 38,
     "metadata": {},
     "output_type": "execute_result"
    }
   ],
   "source": []
  },
  {
   "cell_type": "code",
   "execution_count": null,
   "metadata": {},
   "outputs": [],
   "source": []
  }
 ],
 "metadata": {
  "kernelspec": {
   "display_name": "default",
   "language": "python",
   "name": "python3"
  },
  "language_info": {
   "codemirror_mode": {
    "name": "ipython",
    "version": 3
   },
   "file_extension": ".py",
   "mimetype": "text/x-python",
   "name": "python",
   "nbconvert_exporter": "python",
   "pygments_lexer": "ipython3",
   "version": "3.13.2"
  }
 },
 "nbformat": 4,
 "nbformat_minor": 2
}
